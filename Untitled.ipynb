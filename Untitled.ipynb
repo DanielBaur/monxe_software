{
 "cells": [
  {
   "cell_type": "code",
   "execution_count": 15,
   "metadata": {},
   "outputs": [
    {
     "name": "stdout",
     "output_type": "stream",
     "text": [
      "[9, <function <lambda> at 0x7f6d8d6569d8>]\n"
     ]
    }
   ],
   "source": [
    "test_dict = {\n",
    "    \"another_key\" : 7,\n",
    "    \"key\" : [None, lambda x: x +test_dict[\"another_key\"]]\n",
    "}\n",
    "\n",
    "test_dict[\"key\"][0] = test_dict[\"key\"][1](2)\n",
    "\n",
    "print(test_dict[\"key\"])"
   ]
  },
  {
   "cell_type": "code",
   "execution_count": 40,
   "metadata": {},
   "outputs": [],
   "source": [
    "\n",
    "\n",
    "# This is just an exemplary function that generates a function to generate a dummy derived reading.\n",
    "def myfunc():\n",
    "    return lambda sensor_dict : sensor_dict.raw_reading**2\n",
    "\n",
    "\n",
    "# This is the sensor class. For every sensor read out one sensor object has to be generated.\n",
    "class sensor:\n",
    "\n",
    "    # initializing the sensor with the minimum required data\n",
    "    def __init__(self, name, address, prozessabbild_binary_string, offset, sensor_output, measured_quantity, derived_readings={}):\n",
    "        self.name = name # name of the sensor (e.g. as it is used in the documentation)\n",
    "        self.address = address # the 'address' is specified within 'Pictory'\n",
    "        self.prozessabbild_binary = prozessabbild_binary_string # path to the prozessabbild binary\n",
    "        self.offset = offset # offset of the sensor readout within the 'Prozessabbild' binary file, retrieved via 'piTest': $ piTest -v InputValue_2\n",
    "        self.sensor_output = sensor_output # syntax: [<min_output_range>, <max_output_range>, <output_unit>, <readout_unit_conversion_(1000*muA=mA)>]\n",
    "        self.measured_quantity = measured_quantity # syntax: [<lower_bound_of_the_measured_range>, <upper_bound_of_the_measured_range>, <unit_of_the_measured_quantity>]\n",
    "        self.datetimestamp = None # the current datetimestamp will be stored here\n",
    "        self.raw_reading = None # the raw reading of the sensor (the value displayed within the 'Prozessabbild') will be stored here\n",
    "        self.derived_readings = derived_readings # empty dict that is supposed to hold the reading values that are forwarded to .csv files\n",
    "        return\n",
    "\n",
    "    # adding derived readings along with definitions on how to derive them from the raw sensor reading\n",
    "    def add_derived_reading(self, derived_reading_name, func_to_calculate_derived_reading):\n",
    "        self.derived_readings.update({derived_reading_name : [None, func_to_calculate_derived_reading] } )\n",
    "        return\n",
    "\n",
    "    # retrieving the current raw sensor reading\n",
    "    def get_raw_sensor_reading(self):\n",
    "        with open(self.prozessabbild_binary, \"wb+\", 0) as f: # opening the 'Prozessabbild' binary file\n",
    "            f.seek(self.offset) # offsetting the coursor within the 'Prozessabbild'\n",
    "            self.raw_reading = int.from_bytes(f.read(2), 'little') # generating an integer object from the two bytes retrieved from the offset position\n",
    "        return\n",
    "\n",
    "    # updating the derived readings\n",
    "    def update_derived_readings(self):\n",
    "        for key, val in self.derived_readings.items():\n",
    "            self.derived_readings[key][0] = self.derived_readings[key][1](self)\n",
    "        return\n",
    "\n",
    "\n",
    "# This list contains all the connected sensors.\n",
    "# Accordingly, if you want to add a sensor, add a corresponding entry.\n",
    "# Everything else is supposed to work from scratch.\n",
    "sensor_list = [\n",
    "    \n",
    "sensor(\n",
    "    name=\"ps_1\",\n",
    "    address=\"InputValue_2\",\n",
    "    prozessabbild_binary_string=\"/dev/piControl0\",\n",
    "    offset=13,\n",
    "    sensor_output=[4, 20, \"mA\", 1000],\n",
    "    measured_quantity=[0, 2, \"bar\"],\n",
    "    derived_readings={\n",
    "        \"error_raw_reading\" : [None, myfunc()],\n",
    "        \"a\": None,\n",
    "        \"z\" : None,\n",
    "        \"d\" : None,\n",
    "        \"c\" : None,\n",
    "        \"a_2\" : None,\n",
    "        \"a_222\" : None,\n",
    "        \"a_22\" : None\n",
    "    }\n",
    ")\n",
    "\n",
    "]\n",
    "\n"
   ]
  },
  {
   "cell_type": "code",
   "execution_count": 42,
   "metadata": {},
   "outputs": [
    {
     "name": "stdout",
     "output_type": "stream",
     "text": [
      "A\n",
      "a\n",
      "a_a\n",
      "a_a_a\n",
      "b\n",
      "d\n"
     ]
    }
   ],
   "source": [
    "testlist = [\"d\", \"b\", \"a\", \"A\", \"a_a\", \"a_a_a\"]\n",
    "\n",
    "for i in sorted(testlist):\n",
    "    print(i)"
   ]
  },
  {
   "cell_type": "code",
   "execution_count": 35,
   "metadata": {},
   "outputs": [
    {
     "name": "stdout",
     "output_type": "stream",
     "text": [
      "5\n",
      "25\n"
     ]
    }
   ],
   "source": [
    "sensor_list[0].raw_reading = 5\n",
    "sensor_list[0].update_derived_readings()\n",
    "print(sensor_list[0].raw_reading)\n",
    "print(sensor_list[0].derived_readings[\"error_raw_reading\"][0])"
   ]
  }
 ],
 "metadata": {
  "kernelspec": {
   "display_name": "Python 3",
   "language": "python",
   "name": "python3"
  },
  "language_info": {
   "codemirror_mode": {
    "name": "ipython",
    "version": 3
   },
   "file_extension": ".py",
   "mimetype": "text/x-python",
   "name": "python",
   "nbconvert_exporter": "python",
   "pygments_lexer": "ipython3",
   "version": "3.6.9"
  }
 },
 "nbformat": 4,
 "nbformat_minor": 2
}
